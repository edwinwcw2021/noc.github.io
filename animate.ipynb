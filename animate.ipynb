{
 "cells": [
  {
   "cell_type": "code",
   "execution_count": null,
   "metadata": {},
   "outputs": [],
   "source": [
    "import xarray as xr\n",
    "import cartopy.crs as ccrs\n",
    "import matplotlib.pyplot as plt\n",
    "from matplotlib.animation import FuncAnimation\n",
    "from matplotlib import colormaps\n",
    "from cartopy import feature as cfeature\n",
    "from IPython.display import HTML\n",
    "\n",
    "plt.rcParams['animation.embed_limit'] = 2**128\n",
    "# Load the dataset\n",
    "dataset = xr.open_dataset(\"gistemp1200.nc\")\n",
    "\n",
    "# Prepare the figure and axis\n",
    "fig = plt.figure(figsize=(15, 8))\n",
    "axis = fig.add_subplot(1, 1, 1, projection=ccrs.PlateCarree())\n",
    "axis.coastlines()\n",
    "axis.add_feature(cfeature.BORDERS)\n",
    "axis.gridlines(draw_labels=True)\n",
    "\n",
    "# Initialize plot with the first frame\n",
    "initial_data = dataset.isel(time=0)\n",
    "plot = initial_data.tempanomaly.plot(ax=axis, transform=ccrs.PlateCarree(), cmap=colormaps.get_cmap('plasma'), add_colorbar=True)\n",
    "axis.set_title(str(initial_data.time.values))\n",
    "\n",
    "# Define a function to update the plot for each frame\n",
    "def update(frame):\n",
    "    axis.clear()\n",
    "    axis.coastlines()\n",
    "    axis.add_feature(cfeature.BORDERS)\n",
    "    axis.gridlines(draw_labels=True)\n",
    "    \n",
    "    # Select the data for the current frame\n",
    "    current_data = dataset.isel(time=frame)\n",
    "    \n",
    "    # Plot the current frame's data\n",
    "    plot = current_data.tempanomaly.plot(ax=axis, transform=ccrs.PlateCarree(), cmap=colormaps.get_cmap('plasma'), add_colorbar=False)\n",
    "    \n",
    "    # Update the title to reflect the current time\n",
    "    axis.set_title(str(current_data.time.values))\n",
    "\n",
    "\n",
    "\n",
    "# Create the animation\n",
    "anim = FuncAnimation(fig, update, frames=len(dataset.time), interval=200)\n",
    "HTML(anim.to_html5_video())\n",
    "from matplotlib import rc\n",
    "\n",
    "# equivalent to rcParams['animation.html'] = 'html5'\n",
    "rc('animation', html='html5')\n",
    "anim"
   ]
  }
 ],
 "metadata": {
  "language_info": {
   "name": "python"
  }
 },
 "nbformat": 4,
 "nbformat_minor": 2
}
